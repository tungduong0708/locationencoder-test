{
 "cells": [
  {
   "cell_type": "code",
   "execution_count": 1,
   "metadata": {},
   "outputs": [
    {
     "name": "stderr",
     "output_type": "stream",
     "text": [
      "2023-07-20 10:14:19,577 INFO Welcome to the CDS\n",
      "2023-07-20 10:14:19,579 INFO Sending request to https://cds.climate.copernicus.eu/api/v2/resources/reanalysis-era5-single-levels\n",
      "2023-07-20 10:14:19,904 INFO Request is queued\n",
      "2023-07-20 10:14:21,093 INFO Request is running\n",
      "2023-07-20 10:15:36,525 INFO Request is completed\n",
      "2023-07-20 10:15:36,527 INFO Downloading https://download-0000-clone.copernicus-climate.eu/cache-compute-0000/cache/data8/adaptor.mars.internal-1689873329.424721-14892-6-b4206071-fb59-4d70-9510-21a881aa14b9.nc to era5.nc (99M)\n",
      "2023-07-20 10:16:13,395 INFO Download rate 2.7M/s   \n"
     ]
    },
    {
     "data": {
      "text/plain": [
       "Result(content_length=103762212,content_type=application/x-netcdf,location=https://download-0000-clone.copernicus-climate.eu/cache-compute-0000/cache/data8/adaptor.mars.internal-1689873329.424721-14892-6-b4206071-fb59-4d70-9510-21a881aa14b9.nc)"
      ]
     },
     "execution_count": 1,
     "metadata": {},
     "output_type": "execute_result"
    }
   ],
   "source": [
    "# Download ERA5 data from ECMWF cia cdsapi: https://confluence.ecmwf.int/display/CKB/ERA5%3A+data+documentation\n",
    "# (requires Copernicus API key; see here for setup: https://cds.climate.copernicus.eu/api-how-to)\n",
    "\n",
    "import cdsapi  \n",
    "  \n",
    "c = cdsapi.Client()  \n",
    "  \n",
    "c.retrieve(  \n",
    "    'reanalysis-era5-single-levels',  \n",
    "    {  \n",
    "        'product_type': 'reanalysis',  \n",
    "        'format': 'netcdf',  \n",
    "        'variable': [  \n",
    "            '10m_u_component_of_wind',  # Near-surface wind speed (u-component)  \n",
    "            '10m_v_component_of_wind',  # Near-surface wind speed (v-component)  \n",
    "            '2m_temperature',  # Near-surface air temperature  \n",
    "            'surface_pressure',  # Surface air pressure  \n",
    "            '2m_dewpoint_temperature',  # Near-surface specific humidity (dewpoint_temperature)  \n",
    "            'surface_net_solar_radiation',  # Surface downwelling shortwave radiation  \n",
    "            'surface_net_thermal_radiation',  # Surface downwelling longwave radiation  \n",
    "            'total_precipitation',  # Rainfall flux + Snowfall flux  \n",
    "            'orography',  # Grid-point altitude  \n",
    "        ],  \n",
    "        'year': '2018',  \n",
    "        'month': '01',  \n",
    "        'day': '01',  \n",
    "        'time': '23',  # Replace with the desired time in the format HH  \n",
    "        #'area': [North, West, South, East],  # Replace with the desired bounding box coordinates  \n",
    "        'grid': [0.1, 0.1],  # Replace with the desired grid resolution  \n",
    "    },  \n",
    "    'era5.nc')  # Specify the output file name  "
   ]
  },
  {
   "cell_type": "code",
   "execution_count": 1,
   "metadata": {},
   "outputs": [],
   "source": [
    "import xarray as xr\n",
    "\n",
    "ds = xr.open_dataset(\"era5.nc\")\n",
    "ds = ds.assign_coords(longitude=((ds.longitude + 180) % 360) - 180)  "
   ]
  },
  {
   "cell_type": "code",
   "execution_count": 2,
   "metadata": {},
   "outputs": [],
   "source": [
    "df = ds.to_dataframe().reset_index()"
   ]
  },
  {
   "cell_type": "code",
   "execution_count": 3,
   "metadata": {},
   "outputs": [
    {
     "data": {
      "text/html": [
       "<div>\n",
       "<style scoped>\n",
       "    .dataframe tbody tr th:only-of-type {\n",
       "        vertical-align: middle;\n",
       "    }\n",
       "\n",
       "    .dataframe tbody tr th {\n",
       "        vertical-align: top;\n",
       "    }\n",
       "\n",
       "    .dataframe thead th {\n",
       "        text-align: right;\n",
       "    }\n",
       "</style>\n",
       "<table border=\"1\" class=\"dataframe\">\n",
       "  <thead>\n",
       "    <tr style=\"text-align: right;\">\n",
       "      <th></th>\n",
       "      <th>longitude</th>\n",
       "      <th>latitude</th>\n",
       "      <th>time</th>\n",
       "      <th>u10</th>\n",
       "      <th>v10</th>\n",
       "      <th>t2m</th>\n",
       "      <th>sp</th>\n",
       "      <th>d2m</th>\n",
       "      <th>ssr</th>\n",
       "      <th>str</th>\n",
       "      <th>tp</th>\n",
       "    </tr>\n",
       "  </thead>\n",
       "  <tbody>\n",
       "    <tr>\n",
       "      <th>0</th>\n",
       "      <td>0.000000</td>\n",
       "      <td>90.000000</td>\n",
       "      <td>2018-01-01 23:00:00</td>\n",
       "      <td>0.148169</td>\n",
       "      <td>0.151309</td>\n",
       "      <td>250.023758</td>\n",
       "      <td>100894.375000</td>\n",
       "      <td>247.651260</td>\n",
       "      <td>0.125</td>\n",
       "      <td>-140797.375000</td>\n",
       "      <td>0.000004</td>\n",
       "    </tr>\n",
       "    <tr>\n",
       "      <th>1</th>\n",
       "      <td>0.000000</td>\n",
       "      <td>89.900002</td>\n",
       "      <td>2018-01-01 23:00:00</td>\n",
       "      <td>-1.228602</td>\n",
       "      <td>-0.606401</td>\n",
       "      <td>250.191162</td>\n",
       "      <td>100877.460938</td>\n",
       "      <td>247.838287</td>\n",
       "      <td>0.125</td>\n",
       "      <td>-151145.093750</td>\n",
       "      <td>0.000005</td>\n",
       "    </tr>\n",
       "    <tr>\n",
       "      <th>2</th>\n",
       "      <td>0.000000</td>\n",
       "      <td>89.800003</td>\n",
       "      <td>2018-01-01 23:00:00</td>\n",
       "      <td>-2.605374</td>\n",
       "      <td>-1.364111</td>\n",
       "      <td>250.359818</td>\n",
       "      <td>100860.546875</td>\n",
       "      <td>248.024139</td>\n",
       "      <td>0.125</td>\n",
       "      <td>-161492.828125</td>\n",
       "      <td>0.000005</td>\n",
       "    </tr>\n",
       "    <tr>\n",
       "      <th>3</th>\n",
       "      <td>0.000000</td>\n",
       "      <td>89.699997</td>\n",
       "      <td>2018-01-01 23:00:00</td>\n",
       "      <td>-3.299186</td>\n",
       "      <td>-1.761598</td>\n",
       "      <td>250.560959</td>\n",
       "      <td>100845.320312</td>\n",
       "      <td>248.213531</td>\n",
       "      <td>0.125</td>\n",
       "      <td>-163051.703125</td>\n",
       "      <td>0.000006</td>\n",
       "    </tr>\n",
       "    <tr>\n",
       "      <th>4</th>\n",
       "      <td>0.000000</td>\n",
       "      <td>89.599998</td>\n",
       "      <td>2018-01-01 23:00:00</td>\n",
       "      <td>-3.310715</td>\n",
       "      <td>-1.798863</td>\n",
       "      <td>250.797089</td>\n",
       "      <td>100833.484375</td>\n",
       "      <td>248.405289</td>\n",
       "      <td>0.125</td>\n",
       "      <td>-155808.296875</td>\n",
       "      <td>0.000007</td>\n",
       "    </tr>\n",
       "    <tr>\n",
       "      <th>...</th>\n",
       "      <td>...</td>\n",
       "      <td>...</td>\n",
       "      <td>...</td>\n",
       "      <td>...</td>\n",
       "      <td>...</td>\n",
       "      <td>...</td>\n",
       "      <td>...</td>\n",
       "      <td>...</td>\n",
       "      <td>...</td>\n",
       "      <td>...</td>\n",
       "      <td>...</td>\n",
       "    </tr>\n",
       "    <tr>\n",
       "      <th>6483595</th>\n",
       "      <td>-0.099976</td>\n",
       "      <td>-89.599998</td>\n",
       "      <td>2018-01-01 23:00:00</td>\n",
       "      <td>-1.080074</td>\n",
       "      <td>-5.412329</td>\n",
       "      <td>248.367172</td>\n",
       "      <td>69873.984375</td>\n",
       "      <td>244.598465</td>\n",
       "      <td>269553.250</td>\n",
       "      <td>-309263.718750</td>\n",
       "      <td>0.000000</td>\n",
       "    </tr>\n",
       "    <tr>\n",
       "      <th>6483596</th>\n",
       "      <td>-0.099976</td>\n",
       "      <td>-89.699997</td>\n",
       "      <td>2018-01-01 23:00:00</td>\n",
       "      <td>-0.861689</td>\n",
       "      <td>-5.577949</td>\n",
       "      <td>248.345932</td>\n",
       "      <td>69791.093750</td>\n",
       "      <td>244.596100</td>\n",
       "      <td>270782.500</td>\n",
       "      <td>-309975.937500</td>\n",
       "      <td>0.000000</td>\n",
       "    </tr>\n",
       "    <tr>\n",
       "      <th>6483597</th>\n",
       "      <td>-0.099976</td>\n",
       "      <td>-89.800003</td>\n",
       "      <td>2018-01-01 23:00:00</td>\n",
       "      <td>-0.533435</td>\n",
       "      <td>-4.493140</td>\n",
       "      <td>248.325943</td>\n",
       "      <td>69709.906250</td>\n",
       "      <td>244.592545</td>\n",
       "      <td>272011.750</td>\n",
       "      <td>-310473.187500</td>\n",
       "      <td>0.000000</td>\n",
       "    </tr>\n",
       "    <tr>\n",
       "      <th>6483598</th>\n",
       "      <td>-0.099976</td>\n",
       "      <td>-89.900002</td>\n",
       "      <td>2018-01-01 23:00:00</td>\n",
       "      <td>-0.093274</td>\n",
       "      <td>-2.158494</td>\n",
       "      <td>248.305954</td>\n",
       "      <td>69631.250000</td>\n",
       "      <td>244.584259</td>\n",
       "      <td>273299.500</td>\n",
       "      <td>-310768.843750</td>\n",
       "      <td>0.000000</td>\n",
       "    </tr>\n",
       "    <tr>\n",
       "      <th>6483599</th>\n",
       "      <td>-0.099976</td>\n",
       "      <td>-90.000000</td>\n",
       "      <td>2018-01-01 23:00:00</td>\n",
       "      <td>0.346207</td>\n",
       "      <td>0.175560</td>\n",
       "      <td>248.284714</td>\n",
       "      <td>69552.593750</td>\n",
       "      <td>244.577164</td>\n",
       "      <td>274470.250</td>\n",
       "      <td>-311051.031250</td>\n",
       "      <td>0.000000</td>\n",
       "    </tr>\n",
       "  </tbody>\n",
       "</table>\n",
       "<p>6483600 rows × 11 columns</p>\n",
       "</div>"
      ],
      "text/plain": [
       "         longitude   latitude                time       u10       v10   \n",
       "0         0.000000  90.000000 2018-01-01 23:00:00  0.148169  0.151309  \\\n",
       "1         0.000000  89.900002 2018-01-01 23:00:00 -1.228602 -0.606401   \n",
       "2         0.000000  89.800003 2018-01-01 23:00:00 -2.605374 -1.364111   \n",
       "3         0.000000  89.699997 2018-01-01 23:00:00 -3.299186 -1.761598   \n",
       "4         0.000000  89.599998 2018-01-01 23:00:00 -3.310715 -1.798863   \n",
       "...            ...        ...                 ...       ...       ...   \n",
       "6483595  -0.099976 -89.599998 2018-01-01 23:00:00 -1.080074 -5.412329   \n",
       "6483596  -0.099976 -89.699997 2018-01-01 23:00:00 -0.861689 -5.577949   \n",
       "6483597  -0.099976 -89.800003 2018-01-01 23:00:00 -0.533435 -4.493140   \n",
       "6483598  -0.099976 -89.900002 2018-01-01 23:00:00 -0.093274 -2.158494   \n",
       "6483599  -0.099976 -90.000000 2018-01-01 23:00:00  0.346207  0.175560   \n",
       "\n",
       "                t2m             sp         d2m         ssr            str   \n",
       "0        250.023758  100894.375000  247.651260       0.125 -140797.375000  \\\n",
       "1        250.191162  100877.460938  247.838287       0.125 -151145.093750   \n",
       "2        250.359818  100860.546875  248.024139       0.125 -161492.828125   \n",
       "3        250.560959  100845.320312  248.213531       0.125 -163051.703125   \n",
       "4        250.797089  100833.484375  248.405289       0.125 -155808.296875   \n",
       "...             ...            ...         ...         ...            ...   \n",
       "6483595  248.367172   69873.984375  244.598465  269553.250 -309263.718750   \n",
       "6483596  248.345932   69791.093750  244.596100  270782.500 -309975.937500   \n",
       "6483597  248.325943   69709.906250  244.592545  272011.750 -310473.187500   \n",
       "6483598  248.305954   69631.250000  244.584259  273299.500 -310768.843750   \n",
       "6483599  248.284714   69552.593750  244.577164  274470.250 -311051.031250   \n",
       "\n",
       "               tp  \n",
       "0        0.000004  \n",
       "1        0.000005  \n",
       "2        0.000005  \n",
       "3        0.000006  \n",
       "4        0.000007  \n",
       "...           ...  \n",
       "6483595  0.000000  \n",
       "6483596  0.000000  \n",
       "6483597  0.000000  \n",
       "6483598  0.000000  \n",
       "6483599  0.000000  \n",
       "\n",
       "[6483600 rows x 11 columns]"
      ]
     },
     "execution_count": 3,
     "metadata": {},
     "output_type": "execute_result"
    }
   ],
   "source": [
    "df"
   ]
  },
  {
   "cell_type": "code",
   "execution_count": 4,
   "metadata": {},
   "outputs": [
    {
     "data": {
      "text/plain": [
       "64836.0"
      ]
     },
     "execution_count": 4,
     "metadata": {},
     "output_type": "execute_result"
    }
   ],
   "source": [
    "6483600 * 0.01"
   ]
  },
  {
   "cell_type": "code",
   "execution_count": 15,
   "metadata": {},
   "outputs": [],
   "source": [
    "sample1 = df.sample(5)"
   ]
  },
  {
   "cell_type": "code",
   "execution_count": 16,
   "metadata": {},
   "outputs": [
    {
     "data": {
      "text/html": [
       "<div>\n",
       "<style scoped>\n",
       "    .dataframe tbody tr th:only-of-type {\n",
       "        vertical-align: middle;\n",
       "    }\n",
       "\n",
       "    .dataframe tbody tr th {\n",
       "        vertical-align: top;\n",
       "    }\n",
       "\n",
       "    .dataframe thead th {\n",
       "        text-align: right;\n",
       "    }\n",
       "</style>\n",
       "<table border=\"1\" class=\"dataframe\">\n",
       "  <thead>\n",
       "    <tr style=\"text-align: right;\">\n",
       "      <th></th>\n",
       "      <th>longitude</th>\n",
       "      <th>latitude</th>\n",
       "      <th>time</th>\n",
       "      <th>u10</th>\n",
       "      <th>v10</th>\n",
       "      <th>t2m</th>\n",
       "      <th>sp</th>\n",
       "      <th>d2m</th>\n",
       "      <th>ssr</th>\n",
       "      <th>str</th>\n",
       "      <th>tp</th>\n",
       "    </tr>\n",
       "  </thead>\n",
       "  <tbody>\n",
       "    <tr>\n",
       "      <th>4284915</th>\n",
       "      <td>-122.100006</td>\n",
       "      <td>56.400002</td>\n",
       "      <td>2018-01-01 23:00:00</td>\n",
       "      <td>3.622653</td>\n",
       "      <td>2.261777</td>\n",
       "      <td>261.801025</td>\n",
       "      <td>92251.429688</td>\n",
       "      <td>257.869080</td>\n",
       "      <td>158805.250</td>\n",
       "      <td>-219157.875000</td>\n",
       "      <td>0.000000</td>\n",
       "    </tr>\n",
       "    <tr>\n",
       "      <th>5928465</th>\n",
       "      <td>-30.899994</td>\n",
       "      <td>-47.400002</td>\n",
       "      <td>2018-01-01 23:00:00</td>\n",
       "      <td>7.822146</td>\n",
       "      <td>-4.044784</td>\n",
       "      <td>282.628265</td>\n",
       "      <td>100309.101562</td>\n",
       "      <td>280.359619</td>\n",
       "      <td>0.125</td>\n",
       "      <td>-276124.125000</td>\n",
       "      <td>0.000001</td>\n",
       "    </tr>\n",
       "    <tr>\n",
       "      <th>2777921</th>\n",
       "      <td>154.200012</td>\n",
       "      <td>12.100000</td>\n",
       "      <td>2018-01-01 23:00:00</td>\n",
       "      <td>-6.666511</td>\n",
       "      <td>0.490238</td>\n",
       "      <td>300.650818</td>\n",
       "      <td>101123.578125</td>\n",
       "      <td>295.380951</td>\n",
       "      <td>1617495.125</td>\n",
       "      <td>-246088.828125</td>\n",
       "      <td>0.000000</td>\n",
       "    </tr>\n",
       "    <tr>\n",
       "      <th>4085850</th>\n",
       "      <td>-133.200012</td>\n",
       "      <td>-28.200001</td>\n",
       "      <td>2018-01-01 23:00:00</td>\n",
       "      <td>3.143157</td>\n",
       "      <td>-6.410188</td>\n",
       "      <td>297.291443</td>\n",
       "      <td>101419.601562</td>\n",
       "      <td>294.219727</td>\n",
       "      <td>2381902.500</td>\n",
       "      <td>-133486.765625</td>\n",
       "      <td>0.000141</td>\n",
       "    </tr>\n",
       "    <tr>\n",
       "      <th>5082897</th>\n",
       "      <td>-77.799988</td>\n",
       "      <td>42.500000</td>\n",
       "      <td>2018-01-01 23:00:00</td>\n",
       "      <td>4.974331</td>\n",
       "      <td>0.810239</td>\n",
       "      <td>259.604736</td>\n",
       "      <td>96771.234375</td>\n",
       "      <td>256.574097</td>\n",
       "      <td>0.125</td>\n",
       "      <td>-192011.890625</td>\n",
       "      <td>0.000080</td>\n",
       "    </tr>\n",
       "  </tbody>\n",
       "</table>\n",
       "</div>"
      ],
      "text/plain": [
       "          longitude   latitude                time       u10       v10   \n",
       "4284915 -122.100006  56.400002 2018-01-01 23:00:00  3.622653  2.261777  \\\n",
       "5928465  -30.899994 -47.400002 2018-01-01 23:00:00  7.822146 -4.044784   \n",
       "2777921  154.200012  12.100000 2018-01-01 23:00:00 -6.666511  0.490238   \n",
       "4085850 -133.200012 -28.200001 2018-01-01 23:00:00  3.143157 -6.410188   \n",
       "5082897  -77.799988  42.500000 2018-01-01 23:00:00  4.974331  0.810239   \n",
       "\n",
       "                t2m             sp         d2m          ssr            str   \n",
       "4284915  261.801025   92251.429688  257.869080   158805.250 -219157.875000  \\\n",
       "5928465  282.628265  100309.101562  280.359619        0.125 -276124.125000   \n",
       "2777921  300.650818  101123.578125  295.380951  1617495.125 -246088.828125   \n",
       "4085850  297.291443  101419.601562  294.219727  2381902.500 -133486.765625   \n",
       "5082897  259.604736   96771.234375  256.574097        0.125 -192011.890625   \n",
       "\n",
       "               tp  \n",
       "4284915  0.000000  \n",
       "5928465  0.000001  \n",
       "2777921  0.000000  \n",
       "4085850  0.000141  \n",
       "5082897  0.000080  "
      ]
     },
     "execution_count": 16,
     "metadata": {},
     "output_type": "execute_result"
    }
   ],
   "source": [
    "sample1"
   ]
  },
  {
   "cell_type": "code",
   "execution_count": 17,
   "metadata": {},
   "outputs": [
    {
     "data": {
      "text/plain": [
       "'[[-122.10000610351562, 56.400001525878906], [-30.899993896484375, -47.400001525878906], [154.20001220703125, 12.100000381469727], [-133.20001220703125, -28.200000762939453], [-77.79998779296875, 42.5]]'"
      ]
     },
     "execution_count": 17,
     "metadata": {},
     "output_type": "execute_result"
    }
   ],
   "source": [
    "'[' + ', '.join([f\"[{x[0]}, {x[1]}]\" for x in sample1[['longitude','latitude']].values]) + ']' "
   ]
  },
  {
   "cell_type": "code",
   "execution_count": 18,
   "metadata": {},
   "outputs": [
    {
     "data": {
      "text/plain": [
       "array([261.80103, 282.62827, 300.65082, 297.29144, 259.60474],\n",
       "      dtype=float32)"
      ]
     },
     "execution_count": 18,
     "metadata": {},
     "output_type": "execute_result"
    }
   ],
   "source": [
    "sample1.t2m.values"
   ]
  },
  {
   "cell_type": "code",
   "execution_count": 19,
   "metadata": {},
   "outputs": [],
   "source": [
    "sample2 = df.sample(20)"
   ]
  },
  {
   "cell_type": "code",
   "execution_count": 20,
   "metadata": {},
   "outputs": [
    {
     "data": {
      "text/plain": [
       "'[[-73.39999389648438, -8.300000190734863], [-158.79998779296875, -82.5], [-126.60000610351562, 45.900001525878906], [47.5, 68.5999984741211], [5.8000030517578125, 23.899999618530273], [-93.70001220703125, -30.200000762939453], [-16.0, -65.9000015258789], [20.199996948242188, -19.0], [-157.10000610351562, -38.79999923706055], [82.29998779296875, 74.30000305175781], [-39.0, -54.099998474121094], [-102.0, 2.700000047683716], [103.20001220703125, -12.399999618530273], [-104.39999389648438, -76.30000305175781], [36.100006103515625, 51.20000076293945], [45.80000305175781, -37.900001525878906], [138.0, -28.600000381469727], [-29.70001220703125, 8.600000381469727], [6.1999969482421875, 3.799999952316284], [118.20001220703125, 52.20000076293945]]'"
      ]
     },
     "execution_count": 20,
     "metadata": {},
     "output_type": "execute_result"
    }
   ],
   "source": [
    "'[' + ', '.join([f\"[{x[0]}, {x[1]}]\" for x in sample2[['longitude','latitude']].values]) + ']' "
   ]
  },
  {
   "cell_type": "code",
   "execution_count": 24,
   "metadata": {},
   "outputs": [
    {
     "data": {
      "text/plain": [
       "array([299.85004, 263.69122, 282.3397 , 271.67932, 282.63202, 295.0102 ,\n",
       "       272.48636, 296.80795, 289.1859 , 264.16595, 275.94946, 297.2652 ,\n",
       "       300.00995, 261.84225, 275.381  , 291.80072, 298.3571 , 298.52576,\n",
       "       299.5502 , 249.4978 ], dtype=float32)"
      ]
     },
     "execution_count": 24,
     "metadata": {},
     "output_type": "execute_result"
    }
   ],
   "source": [
    "sample2.t2m.values"
   ]
  },
  {
   "cell_type": "code",
   "execution_count": null,
   "metadata": {},
   "outputs": [],
   "source": []
  }
 ],
 "metadata": {
  "kernelspec": {
   "display_name": "Python 3",
   "language": "python",
   "name": "python3"
  },
  "language_info": {
   "codemirror_mode": {
    "name": "ipython",
    "version": 3
   },
   "file_extension": ".py",
   "mimetype": "text/x-python",
   "name": "python",
   "nbconvert_exporter": "python",
   "pygments_lexer": "ipython3",
   "version": "3.9.16"
  },
  "orig_nbformat": 4
 },
 "nbformat": 4,
 "nbformat_minor": 2
}
